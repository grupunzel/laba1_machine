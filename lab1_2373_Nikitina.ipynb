{
 "cells": [
  {
   "cell_type": "markdown",
   "id": "3581f1f2-4ef1-49b2-a3d2-ed02b2f72637",
   "metadata": {},
   "source": [
    "Ниже представлен датасет Abba Music Characteristics (Spotify) с сайта https://www.kaggle.com/datasets/thedevastator/abba-music-characteristics-spotify?resource=download. В данном датасете представлена информация насчет самых популярных песен (хитов) шведской группы ABBA на известной платформе Spotify. Все данные ральны. Большая часть данных - числовые значения, которые в дальнейшем будут использованы в ходе работы. \n",
    "\n",
    "Датасет включает в се6я следующие атрибуты:\n",
    "\n",
    "album - название альбома  (String)\n",
    "track_number - трек-номер песни в альбоме  (Integer)\n",
    "uri - уникальный идентификатор песни  (String)\n",
    "acousticness - мера акустики песни  (Float)\n",
    "danceability - насколько хорошо песня хороша для танцев  (Float)\n",
    "energy - энергичность песни  (Float)\n",
    "instrumentalness - инструментальность песни  (Float)\n",
    "liveness - насколько песня живая  (Float)\n",
    "loudness - громкость песни  (Float)\n",
    "speechiness - мера кол-ва текста в песни   (Float)\n",
    "tempo - темп песни  (Float)\n",
    "valence - позитивность песни  (Float)\n",
    "popularity - популярность песни   (Integer)\n",
    "artist - исполнитель песни   (String)"
   ]
  },
  {
   "cell_type": "markdown",
   "id": "2087a53a-6a8a-4eea-b569-6489bf045b48",
   "metadata": {},
   "source": [
    "Вычислим среднее значение и СКО каждого числового атрибута (кроме трек-номера):"
   ]
  },
  {
   "cell_type": "code",
   "execution_count": null,
   "id": "a119cfa6-9f67-4490-bea1-da9d7348b763",
   "metadata": {},
   "outputs": [],
   "source": [
    "import numpy as np\n",
    "import pandas as pan\n",
    "\n",
    "import matplotlib.pyplot as plot\n",
    "\n",
    "db = pan.read_csv('ABBA_Hits_spotify.csv')\n",
    "db.head()"
   ]
  },
  {
   "cell_type": "code",
   "execution_count": null,
   "id": "83e0ed70-dc79-4def-97ee-7b29a9e75877",
   "metadata": {},
   "outputs": [],
   "source": [
    "def Outliers(arr):\n",
    "    sorted_arr = np.sort(arr)\n",
    "    \n",
    "    Q1 = sorted_app[np.ceil(len(sorted_arr) * 0.25)]\n",
    "    Q3 = sorted_app[np.ceil(len(sorted_arr) * 0.75)]\n",
    "    Q2 = Q3 - Q1\n",
    "\n",
    "    bottom = Q1 - (1.5 * Q2)\n",
    "    top = Q3 + (1.5 * Q2)\n",
    "\n",
    "    count_outliers = 0\n",
    "    for i in range(len(sorted_app)):\n",
    "        if sorted_app[i] < bottom or sorted_app[i] > top:\n",
    "            count_outliers += 1\n",
    "\n",
    "    if count_outliers == 0:\n",
    "        return 'No outliers'\n",
    "    else:\n",
    "        return 'Outliers exist'\n",
    "\n",
    "\n",
    "def Average(arr, data):\n",
    "    return np.array(db[data]).mean()\n",
    "\n",
    "\n",
    "def SKO(arr, data):\n",
    "    return np.std(np.array(db[data]))\n",
    "    "
   ]
  },
  {
   "cell_type": "code",
   "execution_count": null,
   "id": "d23a012b-7a2b-45c7-ba73-8d2f3b4890da",
   "metadata": {},
   "outputs": [],
   "source": []
  }
 ],
 "metadata": {
  "kernelspec": {
   "display_name": "Python 3 (ipykernel)",
   "language": "python",
   "name": "python3"
  },
  "language_info": {
   "codemirror_mode": {
    "name": "ipython",
    "version": 3
   },
   "file_extension": ".py",
   "mimetype": "text/x-python",
   "name": "python",
   "nbconvert_exporter": "python",
   "pygments_lexer": "ipython3",
   "version": "3.9.10"
  }
 },
 "nbformat": 4,
 "nbformat_minor": 5
}
